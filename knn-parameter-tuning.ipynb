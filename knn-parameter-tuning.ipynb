{
 "cells": [
  {
   "cell_type": "markdown",
   "metadata": {},
   "source": [
    "# KNN with Parameter Tuning\n",
    "\n",
    "In this project, I implement from scratch the k-NN algorithm on a dataset containing breast cancer data. \n",
    "I also implement my own cross-validation algorithm in order to tune the model."
   ]
  },
  {
   "cell_type": "code",
   "execution_count": 108,
   "metadata": {},
   "outputs": [],
   "source": [
    "import numpy as np\n",
    "import pandas as pd\n",
    "import matplotlib.pyplot as plt\n",
    "import seaborn as sns\n",
    "import math \n",
    "import statistics"
   ]
  },
  {
   "cell_type": "code",
   "execution_count": 109,
   "metadata": {},
   "outputs": [],
   "source": [
    "def euclidean_distance(p, q):\n",
    "    sum_cathetus = 0\n",
    "    for i in range(0, len(p)):\n",
    "        cathetus = (p[i] - q[i])**2\n",
    "        sum_cathetus += cathetus\n",
    "    \n",
    "    return math.sqrt(sum_cathetus)\n",
    "\n",
    "    \n",
    "def knn(x_train_normalized, y_train, x_test_normalized, k, distance_func):\n",
    "    predictions = []\n",
    "    for row, query_point in x_test_normalized.iterrows():\n",
    "        distances = []\n",
    "        labels = []\n",
    "\n",
    "        #Get distances between each x_train point and the query point\n",
    "        for index in range(0, len(x_train_normalized)):\n",
    "            d = distance_func(x_train_normalized.iloc[index], query_point)\n",
    "            distances.append((d,index))\n",
    "        distances = sorted(distances)\n",
    "\n",
    "        k_nearest_neighbors = distances[0:k]\n",
    "\n",
    "        #Getting the labels of y for each neighbor of the query point\n",
    "        for neighbor in k_nearest_neighbors:\n",
    "            index = neighbor[1]\n",
    "            label = y_train['target'][index]\n",
    "            labels.append(label)\n",
    "\n",
    "        prediction = statistics.mode(labels)\n",
    "        predictions.append(prediction)\n",
    "        y_predictions = pd.DataFrame(data={'predictions':predictions})\n",
    "\n",
    "    return y_predictions\n",
    "\n",
    "def assign_evaluation_metric_label(target, prediction):\n",
    "\n",
    "    if target == 0 and prediction == 0:\n",
    "        return 'TN'\n",
    "    if target == 0 and prediction == 1:\n",
    "        return 'FP'\n",
    "    if target == 1 and prediction == 0:\n",
    "        return 'FN'\n",
    "    if target == 1 and prediction == 1:\n",
    "        return 'TP'\n",
    "    \n",
    "def get_evaluation_metrics(y_test, y_predictions):\n",
    "    y_test_predictions_concat = pd.concat([y_test, y_predictions], axis=1)\n",
    "    evaluation_metric_labels = list(y_test_predictions_concat.apply(lambda row: assign_evaluation_metric_label(row['target'], row['predictions']), axis=1))\n",
    "    tp = evaluation_metric_labels.count('TP')\n",
    "    fp = evaluation_metric_labels.count('FP')\n",
    "    fn = evaluation_metric_labels.count('FN')\n",
    "    tn = evaluation_metric_labels.count('TN')\n",
    "    recall = tp/(tp+fn)\n",
    "    precision = tp/(tp+fp) if tp != 0 else 0\n",
    "    fpr = fp/(fp + tn)\n",
    "    f1_score = 2*((precision*recall)/(precision+recall)) if precision + recall != 0 else 0\n",
    "    accuracy = (tp + tn)/y_test_predictions_concat.shape[0]\n",
    "    conf_matrix = np.array([[tp, fp],\n",
    "                       [fn, tn]])\n",
    "    \n",
    "    return  conf_matrix, recall, precision, fpr, f1_score, accuracy\n",
    "\n",
    "def cross_validation(x_train_normalized, y_train,  k_values, number_of_folds, distance_func):\n",
    "    np.random.seed(23)\n",
    "    fold_assignments = pd.DataFrame(data={'assignments':np.random.randint(1,number_of_folds+1, size=len(x_train_normalized))})\n",
    "    k_evaluation_metrics_table = pd.DataFrame(columns=[str(k) for k in k_values])\n",
    "    for i in number_of_folds:\n",
    "        x_validation_fold = x_train_normalized[fold_assignments['assignments'] == i]\n",
    "        y_validation_fold = y_train[fold_assignments['assignments'] == i]\n",
    "        x_train_folds = x_train_normalized[fold_assignments['assignments'] != i]\n",
    "        y_train_folds = y_train[fold_assignments['assignments'] != i]\n",
    "\n",
    "        for k in k_values:\n",
    "            \n",
    "\n",
    "    \n",
    "\n",
    "\n"
   ]
  },
  {
   "cell_type": "code",
   "execution_count": 110,
   "metadata": {},
   "outputs": [
    {
     "name": "stdout",
     "output_type": "stream",
     "text": [
      "Label proportions:\n",
      "0    0.657143\n",
      "1    0.342857\n",
      "Name: target, dtype: float64\n",
      "Index(['mean radius', 'mean texture', 'mean perimeter', 'mean area',\n",
      "       'mean smoothness', 'mean compactness', 'mean concavity',\n",
      "       'mean concave points', 'mean symmetry', 'mean fractal dimension',\n",
      "       'radius error', 'texture error', 'perimeter error', 'area error',\n",
      "       'smoothness error', 'compactness error', 'concavity error',\n",
      "       'concave points error', 'symmetry error', 'fractal dimension error',\n",
      "       'worst radius', 'worst texture', 'worst perimeter', 'worst area',\n",
      "       'worst smoothness', 'worst compactness', 'worst concavity',\n",
      "       'worst concave points', 'worst symmetry', 'worst fractal dimension'],\n",
      "      dtype='object')\n",
      "(455, 30) (455, 1) (114, 30) (114, 1)\n"
     ]
    }
   ],
   "source": [
    "pd.set_option('display.max_columns', None)\n",
    "pd.set_option('display.max_rows', None)\n",
    "\n",
    "breast_cancer_train = pd.read_csv(\"breast_cancer_train.csv\")\n",
    "breast_cancer_test = pd.read_csv(\"breast_cancer_test.csv\")\n",
    "\n",
    "print(f\"Label proportions:\\n{breast_cancer_train['target'].value_counts(normalize=1)}\")\n",
    "\n",
    "x_train = breast_cancer_train.drop('target', axis=1)\n",
    "y_train = breast_cancer_train[['target']]\n",
    "\n",
    "x_test = breast_cancer_test.drop('target', axis=1)\n",
    "y_test = breast_cancer_test[['target']]\n",
    "\n",
    "print(x_train.columns)\n",
    "print(x_train.shape, y_train.shape, x_test.shape, y_test.shape)\n",
    "\n",
    "x_train_normalized = ((x_train - x_train.min()) / (x_train.max() - x_train.min()) )\n",
    "x_test_normalized = ((x_test - x_train.min()) / (x_train.max() - x_train.min()) )"
   ]
  },
  {
   "cell_type": "markdown",
   "metadata": {},
   "source": [
    "### Evaluating k = 31 with Euclidean Distance"
   ]
  },
  {
   "cell_type": "code",
   "execution_count": 111,
   "metadata": {},
   "outputs": [
    {
     "name": "stdout",
     "output_type": "stream",
     "text": [
      " Accuracy: 0.9385964912280702\n",
      " Recall: 0.875\n",
      " Precision: 1.0\n",
      " F1-Score: 0.9333333333333333\n"
     ]
    }
   ],
   "source": [
    "y_predictions = knn(x_train_normalized, y_train, x_test_normalized, 31, euclidean_distance)\n",
    "\n",
    "conf_matrix, recall, precision, fpr, f1_score, accuracy = get_evaluation_metrics(y_test, y_predictions)\n",
    "\n",
    "print(f' Accuracy: {accuracy}\\n Recall: {recall}\\n Precision: {precision}\\n F1-Score: {f1_score}')"
   ]
  },
  {
   "cell_type": "code",
   "execution_count": null,
   "metadata": {},
   "outputs": [],
   "source": []
  }
 ],
 "metadata": {
  "kernelspec": {
   "display_name": "my_virtual_environment_1",
   "language": "python",
   "name": "python3"
  },
  "language_info": {
   "codemirror_mode": {
    "name": "ipython",
    "version": 3
   },
   "file_extension": ".py",
   "mimetype": "text/x-python",
   "name": "python",
   "nbconvert_exporter": "python",
   "pygments_lexer": "ipython3",
   "version": "3.11.4"
  },
  "orig_nbformat": 4
 },
 "nbformat": 4,
 "nbformat_minor": 2
}
