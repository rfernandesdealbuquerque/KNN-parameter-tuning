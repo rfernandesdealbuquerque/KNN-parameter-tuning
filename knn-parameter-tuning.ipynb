{
 "cells": [
  {
   "cell_type": "markdown",
   "metadata": {},
   "source": [
    "# KNN with Parameter Tuning\n",
    "\n",
    "In this project, I implement from scratch the k-NN algorithm on a dataset containing breast cancer data. \n",
    "I also implement my own cross-validation algorithm in order to tune the model."
   ]
  },
  {
   "cell_type": "code",
   "execution_count": 42,
   "metadata": {},
   "outputs": [],
   "source": [
    "import numpy as np\n",
    "import pandas as pd\n",
    "import matplotlib.pyplot as plt\n",
    "import seaborn as sns\n",
    "import math \n",
    "import statistics"
   ]
  },
  {
   "cell_type": "code",
   "execution_count": 43,
   "metadata": {},
   "outputs": [],
   "source": [
    "breast_cancer_train = pd.read_csv(\"breast_cancer_train.csv\")\n",
    "breast_cancer_test = pd.read_csv(\"breast_cancer_test.csv\")\n",
    "\n",
    "breast_cancer_train['target'].value_counts(normalize=1)\n",
    "\n",
    "x_train = breast_cancer_train.drop('target', axis=1)\n",
    "x_test = breast_cancer_test.drop('target', axis=1)\n",
    "\n",
    "y_train = breast_cancer_train[['target']]\n",
    "y_test = breast_cancer_test[['target']]\n",
    "\n",
    "x_train_normalized = ((x_train - x_train.min()) / (x_train.max() - x_train.min()) )\n",
    "x_test_normalized = ((x_test - x_test.min()) / (x_test.max() - x_test.min()) )"
   ]
  },
  {
   "cell_type": "code",
   "execution_count": 44,
   "metadata": {},
   "outputs": [],
   "source": [
    "def euclidean_distance(p, q):\n",
    "    sum_cathetus = 0\n",
    "    for i in range(0, len(p)):\n",
    "        cathetus = (p[i] - q[i])**2\n",
    "        sum_cathetus += cathetus\n",
    "    \n",
    "    return math.sqrt(sum_cathetus)\n",
    "\n",
    "    \n",
    "def knn(x_train_normalized, y_train, query_point, k, distance_func):\n",
    "    distances = []\n",
    "    for index in range(0, len(x_train_normalized)):\n",
    "        d = distance_func(x_train_normalized.iloc[index], query_point)\n",
    "        distances.append((d,index))\n",
    "    sorted(distances)\n",
    "\n",
    "    k_nearest_neighbors = distances[0:k]\n",
    "\n",
    "    labels = []\n",
    "    for neighbor in k_nearest_neighbors:\n",
    "        index = neighbor[1]\n",
    "        label = y_train['target'][index]\n",
    "        labels.append(label)\n",
    "    prediction = statistics.mode(labels)\n",
    "\n",
    "    return prediction"
   ]
  },
  {
   "cell_type": "markdown",
   "metadata": {},
   "source": [
    "### Evaluating k = 31 with Euclidean Distance"
   ]
  },
  {
   "cell_type": "code",
   "execution_count": 47,
   "metadata": {},
   "outputs": [
    {
     "name": "stderr",
     "output_type": "stream",
     "text": [
      "C:\\Users\\rodri\\AppData\\Local\\Temp\\ipykernel_21112\\1831007801.py:7: SettingWithCopyWarning: \n",
      "A value is trying to be set on a copy of a slice from a DataFrame.\n",
      "Try using .loc[row_indexer,col_indexer] = value instead\n",
      "\n",
      "See the caveats in the documentation: https://pandas.pydata.org/pandas-docs/stable/user_guide/indexing.html#returning-a-view-versus-a-copy\n",
      "  y_test['prediction'] = predictions\n"
     ]
    }
   ],
   "source": [
    "predictions = []\n",
    "\n",
    "for i in range (0, len(x_test)):\n",
    "    prediction = knn(x_train_normalized, y_train, x_test.iloc[i], 31, euclidean_distance)\n",
    "    predictions.append(prediction)\n",
    "\n",
    "y_test['prediction'] = predictions"
   ]
  },
  {
   "cell_type": "code",
   "execution_count": null,
   "metadata": {},
   "outputs": [],
   "source": []
  }
 ],
 "metadata": {
  "kernelspec": {
   "display_name": "my_virtual_environment_1",
   "language": "python",
   "name": "python3"
  },
  "language_info": {
   "codemirror_mode": {
    "name": "ipython",
    "version": 3
   },
   "file_extension": ".py",
   "mimetype": "text/x-python",
   "name": "python",
   "nbconvert_exporter": "python",
   "pygments_lexer": "ipython3",
   "version": "3.11.4"
  },
  "orig_nbformat": 4
 },
 "nbformat": 4,
 "nbformat_minor": 2
}
